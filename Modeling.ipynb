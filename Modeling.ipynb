{
  "nbformat": 4,
  "nbformat_minor": 0,
  "metadata": {
    "kernelspec": {
      "display_name": "Python 3",
      "language": "python",
      "name": "python3"
    },
    "language_info": {
      "codemirror_mode": {
        "name": "ipython",
        "version": 3
      },
      "file_extension": ".py",
      "mimetype": "text/x-python",
      "name": "python",
      "nbconvert_exporter": "python",
      "pygments_lexer": "ipython3",
      "version": "3.8.6"
    },
    "colab": {
      "name": "Modeling.ipynb",
      "provenance": [],
      "include_colab_link": true
    }
  },
  "cells": [
    {
      "cell_type": "markdown",
      "metadata": {
        "id": "view-in-github",
        "colab_type": "text"
      },
      "source": [
        "<a href=\"https://colab.research.google.com/github/anantaramesh/Youtube-Trends/blob/master/Modeling.ipynb\" target=\"_parent\"><img src=\"https://colab.research.google.com/assets/colab-badge.svg\" alt=\"Open In Colab\"/></a>"
      ]
    },
    {
      "cell_type": "code",
      "metadata": {
        "id": "bQ1T-6hPVPAn"
      },
      "source": [
        "import pickle\n",
        "import pandas as pd\n",
        "import numpy as np\n",
        "import seaborn as sns\n",
        "from textblob import TextBlob\n",
        "import matplotlib.pyplot as plt\n",
        "from textblob.sentiments import NaiveBayesAnalyzer\n",
        "import nltk"
      ],
      "execution_count": null,
      "outputs": []
    },
    {
      "cell_type": "code",
      "metadata": {
        "id": "FYI8IkvzVPAu",
        "outputId": "956e86f2-de67-4d2f-c96a-40634c89d933"
      },
      "source": [
        "nltk.download('movie_reviews')"
      ],
      "execution_count": null,
      "outputs": [
        {
          "output_type": "stream",
          "text": [
            "[nltk_data] Downloading package movie_reviews to\n",
            "[nltk_data]     /Users/anantaramesh/nltk_data...\n",
            "[nltk_data]   Package movie_reviews is already up-to-date!\n"
          ],
          "name": "stderr"
        },
        {
          "output_type": "execute_result",
          "data": {
            "text/plain": [
              "True"
            ]
          },
          "metadata": {
            "tags": []
          },
          "execution_count": 2
        }
      ]
    },
    {
      "cell_type": "code",
      "metadata": {
        "id": "emppU4LfVPAx"
      },
      "source": [
        "with open('dataframe_after_feat_eng.pkl', 'rb') as file:\n",
        "    df = pickle.load(file)"
      ],
      "execution_count": null,
      "outputs": []
    },
    {
      "cell_type": "code",
      "metadata": {
        "scrolled": false,
        "id": "ys-V5zQIVPAy",
        "outputId": "b9d09f19-fd86-4116-9534-5ae98032b990"
      },
      "source": [
        "df.head()"
      ],
      "execution_count": null,
      "outputs": [
        {
          "output_type": "execute_result",
          "data": {
            "text/html": [
              "<div>\n",
              "<style scoped>\n",
              "    .dataframe tbody tr th:only-of-type {\n",
              "        vertical-align: middle;\n",
              "    }\n",
              "\n",
              "    .dataframe tbody tr th {\n",
              "        vertical-align: top;\n",
              "    }\n",
              "\n",
              "    .dataframe thead th {\n",
              "        text-align: right;\n",
              "    }\n",
              "</style>\n",
              "<table border=\"1\" class=\"dataframe\">\n",
              "  <thead>\n",
              "    <tr style=\"text-align: right;\">\n",
              "      <th></th>\n",
              "      <th>video_id</th>\n",
              "      <th>trending_date</th>\n",
              "      <th>publish_time</th>\n",
              "      <th>channel_title</th>\n",
              "      <th>category_id</th>\n",
              "      <th>category_name</th>\n",
              "      <th>title</th>\n",
              "      <th>description</th>\n",
              "      <th>tags</th>\n",
              "      <th>views</th>\n",
              "      <th>...</th>\n",
              "      <th>days_since_last_trend</th>\n",
              "      <th>views_log</th>\n",
              "      <th>likes_log</th>\n",
              "      <th>comments_log</th>\n",
              "      <th>dislikes_log</th>\n",
              "      <th>like_rate</th>\n",
              "      <th>dislike_rate</th>\n",
              "      <th>comment_rate</th>\n",
              "      <th># of trend days</th>\n",
              "      <th>num_tags</th>\n",
              "    </tr>\n",
              "  </thead>\n",
              "  <tbody>\n",
              "    <tr>\n",
              "      <th>0</th>\n",
              "      <td>2kyS6SvSYSE</td>\n",
              "      <td>2017-11-14</td>\n",
              "      <td>2017-11-13 17:13:01</td>\n",
              "      <td>CaseyNeistat</td>\n",
              "      <td>22</td>\n",
              "      <td>People &amp; Blogs</td>\n",
              "      <td>want talk marriage</td>\n",
              "      <td>shantell channel video k lens drone gear camer...</td>\n",
              "      <td>SHANtell martin</td>\n",
              "      <td>748374</td>\n",
              "      <td>...</td>\n",
              "      <td>0 days</td>\n",
              "      <td>13.525658</td>\n",
              "      <td>10.960027</td>\n",
              "      <td>9.677528</td>\n",
              "      <td>7.995307</td>\n",
              "      <td>0.076869</td>\n",
              "      <td>0.003963</td>\n",
              "      <td>0.021318</td>\n",
              "      <td>7</td>\n",
              "      <td>1</td>\n",
              "    </tr>\n",
              "    <tr>\n",
              "      <th>1</th>\n",
              "      <td>1ZAPwfrtAFY</td>\n",
              "      <td>2017-11-14</td>\n",
              "      <td>2017-11-13 07:30:00</td>\n",
              "      <td>LastWeekTonight</td>\n",
              "      <td>24</td>\n",
              "      <td>Entertainment</td>\n",
              "      <td>trump presidency last week tonight john oliver...</td>\n",
              "      <td>one year presidential election john oliver dis...</td>\n",
              "      <td>last week tonight trump presidency|\"last week ...</td>\n",
              "      <td>2418783</td>\n",
              "      <td>...</td>\n",
              "      <td>0 days</td>\n",
              "      <td>14.698775</td>\n",
              "      <td>11.484382</td>\n",
              "      <td>9.449672</td>\n",
              "      <td>8.723719</td>\n",
              "      <td>0.040179</td>\n",
              "      <td>0.002541</td>\n",
              "      <td>0.005252</td>\n",
              "      <td>7</td>\n",
              "      <td>4</td>\n",
              "    </tr>\n",
              "    <tr>\n",
              "      <th>2</th>\n",
              "      <td>5qpjK5DgCt4</td>\n",
              "      <td>2017-11-14</td>\n",
              "      <td>2017-11-12 19:05:24</td>\n",
              "      <td>Rudy Mancuso</td>\n",
              "      <td>23</td>\n",
              "      <td>Comedy</td>\n",
              "      <td>racist superman rudy mancuso king bach lele pons</td>\n",
              "      <td>watch previous video subscribe watching like s...</td>\n",
              "      <td>racist superman|\"rudy\"|\"mancuso\"|\"king\"|\"bach\"...</td>\n",
              "      <td>3191434</td>\n",
              "      <td>...</td>\n",
              "      <td>0 days</td>\n",
              "      <td>14.975981</td>\n",
              "      <td>11.891595</td>\n",
              "      <td>9.009692</td>\n",
              "      <td>8.582981</td>\n",
              "      <td>0.045758</td>\n",
              "      <td>0.001673</td>\n",
              "      <td>0.002563</td>\n",
              "      <td>7</td>\n",
              "      <td>23</td>\n",
              "    </tr>\n",
              "    <tr>\n",
              "      <th>3</th>\n",
              "      <td>puqaWrEC7tY</td>\n",
              "      <td>2017-11-14</td>\n",
              "      <td>2017-11-13 11:00:04</td>\n",
              "      <td>Good Mythical Morning</td>\n",
              "      <td>24</td>\n",
              "      <td>Entertainment</td>\n",
              "      <td>nickelback lyrics real fake</td>\n",
              "      <td>today find link nickelback amateur secret nick...</td>\n",
              "      <td>rhett and link|\"gmm\"|\"good mythical morning\"|\"...</td>\n",
              "      <td>343168</td>\n",
              "      <td>...</td>\n",
              "      <td>0 days</td>\n",
              "      <td>12.745975</td>\n",
              "      <td>9.227492</td>\n",
              "      <td>7.671827</td>\n",
              "      <td>6.502790</td>\n",
              "      <td>0.029641</td>\n",
              "      <td>0.001941</td>\n",
              "      <td>0.006253</td>\n",
              "      <td>7</td>\n",
              "      <td>27</td>\n",
              "    </tr>\n",
              "    <tr>\n",
              "      <th>4</th>\n",
              "      <td>d380meD0W0M</td>\n",
              "      <td>2017-11-14</td>\n",
              "      <td>2017-11-12 18:01:41</td>\n",
              "      <td>nigahiga</td>\n",
              "      <td>24</td>\n",
              "      <td>Entertainment</td>\n",
              "      <td>dare going bald</td>\n",
              "      <td>know since show back might best episode yet le...</td>\n",
              "      <td>ryan|\"higa\"|\"higatv\"|\"nigahiga\"|\"i dare you\"|\"...</td>\n",
              "      <td>2095731</td>\n",
              "      <td>...</td>\n",
              "      <td>0 days</td>\n",
              "      <td>14.555413</td>\n",
              "      <td>11.792343</td>\n",
              "      <td>9.771041</td>\n",
              "      <td>7.595890</td>\n",
              "      <td>0.063097</td>\n",
              "      <td>0.000949</td>\n",
              "      <td>0.008359</td>\n",
              "      <td>6</td>\n",
              "      <td>14</td>\n",
              "    </tr>\n",
              "  </tbody>\n",
              "</table>\n",
              "<p>5 rows × 23 columns</p>\n",
              "</div>"
            ],
            "text/plain": [
              "      video_id trending_date        publish_time          channel_title  \\\n",
              "0  2kyS6SvSYSE    2017-11-14 2017-11-13 17:13:01           CaseyNeistat   \n",
              "1  1ZAPwfrtAFY    2017-11-14 2017-11-13 07:30:00        LastWeekTonight   \n",
              "2  5qpjK5DgCt4    2017-11-14 2017-11-12 19:05:24           Rudy Mancuso   \n",
              "3  puqaWrEC7tY    2017-11-14 2017-11-13 11:00:04  Good Mythical Morning   \n",
              "4  d380meD0W0M    2017-11-14 2017-11-12 18:01:41               nigahiga   \n",
              "\n",
              "   category_id   category_name  \\\n",
              "0           22  People & Blogs   \n",
              "1           24   Entertainment   \n",
              "2           23          Comedy   \n",
              "3           24   Entertainment   \n",
              "4           24   Entertainment   \n",
              "\n",
              "                                               title  \\\n",
              "0                                 want talk marriage   \n",
              "1  trump presidency last week tonight john oliver...   \n",
              "2   racist superman rudy mancuso king bach lele pons   \n",
              "3                        nickelback lyrics real fake   \n",
              "4                                    dare going bald   \n",
              "\n",
              "                                         description  \\\n",
              "0  shantell channel video k lens drone gear camer...   \n",
              "1  one year presidential election john oliver dis...   \n",
              "2  watch previous video subscribe watching like s...   \n",
              "3  today find link nickelback amateur secret nick...   \n",
              "4  know since show back might best episode yet le...   \n",
              "\n",
              "                                                tags    views  ...  \\\n",
              "0                                    SHANtell martin   748374  ...   \n",
              "1  last week tonight trump presidency|\"last week ...  2418783  ...   \n",
              "2  racist superman|\"rudy\"|\"mancuso\"|\"king\"|\"bach\"...  3191434  ...   \n",
              "3  rhett and link|\"gmm\"|\"good mythical morning\"|\"...   343168  ...   \n",
              "4  ryan|\"higa\"|\"higatv\"|\"nigahiga\"|\"i dare you\"|\"...  2095731  ...   \n",
              "\n",
              "   days_since_last_trend  views_log  likes_log comments_log  dislikes_log  \\\n",
              "0                 0 days  13.525658  10.960027     9.677528      7.995307   \n",
              "1                 0 days  14.698775  11.484382     9.449672      8.723719   \n",
              "2                 0 days  14.975981  11.891595     9.009692      8.582981   \n",
              "3                 0 days  12.745975   9.227492     7.671827      6.502790   \n",
              "4                 0 days  14.555413  11.792343     9.771041      7.595890   \n",
              "\n",
              "   like_rate  dislike_rate  comment_rate  # of trend days  num_tags  \n",
              "0   0.076869      0.003963      0.021318                7         1  \n",
              "1   0.040179      0.002541      0.005252                7         4  \n",
              "2   0.045758      0.001673      0.002563                7        23  \n",
              "3   0.029641      0.001941      0.006253                7        27  \n",
              "4   0.063097      0.000949      0.008359                6        14  \n",
              "\n",
              "[5 rows x 23 columns]"
            ]
          },
          "metadata": {
            "tags": []
          },
          "execution_count": 4
        }
      ]
    },
    {
      "cell_type": "code",
      "metadata": {
        "id": "5gRD1596VPAz",
        "outputId": "5381e2dc-3485-4d07-e054-e552d7b16194"
      },
      "source": [
        "df.columns"
      ],
      "execution_count": null,
      "outputs": [
        {
          "output_type": "execute_result",
          "data": {
            "text/plain": [
              "Index(['video_id', 'trending_date', 'publish_time', 'channel_title',\n",
              "       'category_id', 'category_name', 'title', 'description', 'tags', 'views',\n",
              "       'likes', 'dislikes', 'comment_count', 'days_since_last_trend',\n",
              "       'views_log', 'likes_log', 'comments_log', 'dislikes_log', 'like_rate',\n",
              "       'dislike_rate', 'comment_rate', '# of trend days', 'num_tags'],\n",
              "      dtype='object')"
            ]
          },
          "metadata": {
            "tags": []
          },
          "execution_count": 5
        }
      ]
    },
    {
      "cell_type": "markdown",
      "metadata": {
        "id": "s1sWWpffVPA1"
      },
      "source": [
        "To perform sentiment analysis on the textual columns of my dataset, I am going to use textblob. Textblob is a python library that is commonly used for processing textual data. It has several features including part-of-speech tagging, sentiment analysis, and finding n-grams.\n",
        "\n",
        "Here, I am making use of it to extract the sentiment of the video descriptions."
      ]
    },
    {
      "cell_type": "code",
      "metadata": {
        "id": "sQyO6AGHVPA2"
      },
      "source": [
        "bloblist_desc = list()\n",
        "\n",
        "df_desc = df['description'].astype(str)\n",
        "for row in df_desc:\n",
        "    blob = TextBlob(row)\n",
        "    bloblist_desc.append((row, blob.sentiment.polarity, blob.sentiment.subjectivity))\n",
        "    df_pol_desc_default = pd.DataFrame(bloblist_desc, columns = ['description','desc_sent','desc_subj'])"
      ],
      "execution_count": null,
      "outputs": []
    },
    {
      "cell_type": "code",
      "metadata": {
        "id": "k6QQlhOlVPA3",
        "outputId": "d18778d9-4b79-4d08-d6b6-f979f37f8a73"
      },
      "source": [
        "df_pol_desc_default"
      ],
      "execution_count": null,
      "outputs": [
        {
          "output_type": "execute_result",
          "data": {
            "text/html": [
              "<div>\n",
              "<style scoped>\n",
              "    .dataframe tbody tr th:only-of-type {\n",
              "        vertical-align: middle;\n",
              "    }\n",
              "\n",
              "    .dataframe tbody tr th {\n",
              "        vertical-align: top;\n",
              "    }\n",
              "\n",
              "    .dataframe thead th {\n",
              "        text-align: right;\n",
              "    }\n",
              "</style>\n",
              "<table border=\"1\" class=\"dataframe\">\n",
              "  <thead>\n",
              "    <tr style=\"text-align: right;\">\n",
              "      <th></th>\n",
              "      <th>description</th>\n",
              "      <th>desc_sent</th>\n",
              "      <th>desc_pol</th>\n",
              "    </tr>\n",
              "  </thead>\n",
              "  <tbody>\n",
              "    <tr>\n",
              "      <th>0</th>\n",
              "      <td>shantell channel video k lens drone gear camer...</td>\n",
              "      <td>0.075000</td>\n",
              "      <td>0.558333</td>\n",
              "    </tr>\n",
              "    <tr>\n",
              "      <th>1</th>\n",
              "      <td>one year presidential election john oliver dis...</td>\n",
              "      <td>0.025000</td>\n",
              "      <td>0.300000</td>\n",
              "    </tr>\n",
              "    <tr>\n",
              "      <th>2</th>\n",
              "      <td>watch previous video subscribe watching like s...</td>\n",
              "      <td>-0.166667</td>\n",
              "      <td>0.166667</td>\n",
              "    </tr>\n",
              "    <tr>\n",
              "      <th>3</th>\n",
              "      <td>today find link nickelback amateur secret nick...</td>\n",
              "      <td>0.031061</td>\n",
              "      <td>0.350758</td>\n",
              "    </tr>\n",
              "    <tr>\n",
              "      <th>4</th>\n",
              "      <td>know since show back might best episode yet le...</td>\n",
              "      <td>0.459091</td>\n",
              "      <td>0.338636</td>\n",
              "    </tr>\n",
              "    <tr>\n",
              "      <th>...</th>\n",
              "      <td>...</td>\n",
              "      <td>...</td>\n",
              "      <td>...</td>\n",
              "    </tr>\n",
              "    <tr>\n",
              "      <th>6346</th>\n",
              "      <td>hey larlees todays video testing crayola makeu...</td>\n",
              "      <td>0.450758</td>\n",
              "      <td>0.578220</td>\n",
              "    </tr>\n",
              "    <tr>\n",
              "      <th>6347</th>\n",
              "      <td>first take stephen smith max kellerman react k...</td>\n",
              "      <td>0.258333</td>\n",
              "      <td>0.408333</td>\n",
              "    </tr>\n",
              "    <tr>\n",
              "      <th>6348</th>\n",
              "      <td>james corden ashton kutcher square rap battle ...</td>\n",
              "      <td>-0.012758</td>\n",
              "      <td>0.526182</td>\n",
              "    </tr>\n",
              "    <tr>\n",
              "      <th>6349</th>\n",
              "      <td>ground chuck great purpose buy anywhere choice...</td>\n",
              "      <td>0.310000</td>\n",
              "      <td>0.620000</td>\n",
              "    </tr>\n",
              "    <tr>\n",
              "      <th>6350</th>\n",
              "      <td>katherine talks learning accents growing austr...</td>\n",
              "      <td>0.071629</td>\n",
              "      <td>0.639583</td>\n",
              "    </tr>\n",
              "  </tbody>\n",
              "</table>\n",
              "<p>6351 rows × 3 columns</p>\n",
              "</div>"
            ],
            "text/plain": [
              "                                            description  desc_sent  desc_pol\n",
              "0     shantell channel video k lens drone gear camer...   0.075000  0.558333\n",
              "1     one year presidential election john oliver dis...   0.025000  0.300000\n",
              "2     watch previous video subscribe watching like s...  -0.166667  0.166667\n",
              "3     today find link nickelback amateur secret nick...   0.031061  0.350758\n",
              "4     know since show back might best episode yet le...   0.459091  0.338636\n",
              "...                                                 ...        ...       ...\n",
              "6346  hey larlees todays video testing crayola makeu...   0.450758  0.578220\n",
              "6347  first take stephen smith max kellerman react k...   0.258333  0.408333\n",
              "6348  james corden ashton kutcher square rap battle ...  -0.012758  0.526182\n",
              "6349  ground chuck great purpose buy anywhere choice...   0.310000  0.620000\n",
              "6350  katherine talks learning accents growing austr...   0.071629  0.639583\n",
              "\n",
              "[6351 rows x 3 columns]"
            ]
          },
          "metadata": {
            "tags": []
          },
          "execution_count": 7
        }
      ]
    },
    {
      "cell_type": "code",
      "metadata": {
        "id": "DAe2KZi_VPA3"
      },
      "source": [
        "def func(df):\n",
        "    if df['desc_sent'] > 0:\n",
        "        val = \"Positive\"\n",
        "    elif df['desc_sent'] == 0:\n",
        "        val = \"Neutral\"\n",
        "    else:\n",
        "        val = \"Negative\"\n",
        "    return val\n",
        "\n",
        "df_pol_desc_default['desc_sent_type'] = df_pol_desc_default.apply(func, axis=1)"
      ],
      "execution_count": null,
      "outputs": []
    },
    {
      "cell_type": "code",
      "metadata": {
        "scrolled": true,
        "id": "f6axoHrnVPA3",
        "outputId": "acead41c-e2dd-4f08-fff0-111368f56387"
      },
      "source": [
        "#plt.figure(figsize=(10,10))\n",
        "sns.set_style(\"whitegrid\")\n",
        "ax = sns.countplot(x=\"desc_sent_type\", data=df_pol_desc_default)"
      ],
      "execution_count": null,
      "outputs": [
        {
          "output_type": "display_data",
          "data": {
            "image/png": "[encoded data removed]",
            "text/plain": [
              "<Figure size 432x288 with 1 Axes>"
            ]
          },
          "metadata": {
            "tags": []
          }
        }
      ]
    },
    {
      "cell_type": "markdown",
      "metadata": {
        "id": "sU0LRHcnVPA4"
      },
      "source": [
        "Let us examine what kinds of videos result in a negative sentiment rating."
      ]
    },
    {
      "cell_type": "code",
      "metadata": {
        "id": "9s-em_g7VPA5",
        "outputId": "1e98fae7-bc7b-40c6-941e-40c64dc4e21f"
      },
      "source": [
        "df_pol_desc_default[df_pol_desc_default['desc_sent_type'] == 'Negative']"
      ],
      "execution_count": null,
      "outputs": [
        {
          "output_type": "execute_result",
          "data": {
            "text/html": [
              "<div>\n",
              "<style scoped>\n",
              "    .dataframe tbody tr th:only-of-type {\n",
              "        vertical-align: middle;\n",
              "    }\n",
              "\n",
              "    .dataframe tbody tr th {\n",
              "        vertical-align: top;\n",
              "    }\n",
              "\n",
              "    .dataframe thead th {\n",
              "        text-align: right;\n",
              "    }\n",
              "</style>\n",
              "<table border=\"1\" class=\"dataframe\">\n",
              "  <thead>\n",
              "    <tr style=\"text-align: right;\">\n",
              "      <th></th>\n",
              "      <th>description</th>\n",
              "      <th>desc_sent</th>\n",
              "      <th>desc_pol</th>\n",
              "      <th>desc_sent_type</th>\n",
              "    </tr>\n",
              "  </thead>\n",
              "  <tbody>\n",
              "    <tr>\n",
              "      <th>2</th>\n",
              "      <td>watch previous video subscribe watching like s...</td>\n",
              "      <td>-0.166667</td>\n",
              "      <td>0.166667</td>\n",
              "      <td>Negative</td>\n",
              "    </tr>\n",
              "    <tr>\n",
              "      <th>7</th>\n",
              "      <td>ice cream pint combination lock ice cream sand...</td>\n",
              "      <td>-0.283333</td>\n",
              "      <td>0.433333</td>\n",
              "      <td>Negative</td>\n",
              "    </tr>\n",
              "    <tr>\n",
              "      <th>11</th>\n",
              "      <td>shiva arrives time king ezekiel attempts take ...</td>\n",
              "      <td>-0.200000</td>\n",
              "      <td>0.400000</td>\n",
              "      <td>Negative</td>\n",
              "    </tr>\n",
              "    <tr>\n",
              "      <th>17</th>\n",
              "      <td>check patreon page full lesson claws belly tug...</td>\n",
              "      <td>-0.012963</td>\n",
              "      <td>0.610317</td>\n",
              "      <td>Negative</td>\n",
              "    </tr>\n",
              "    <tr>\n",
              "      <th>24</th>\n",
              "      <td>hard figure people showers please subscribe ea...</td>\n",
              "      <td>-0.150589</td>\n",
              "      <td>0.473653</td>\n",
              "      <td>Negative</td>\n",
              "    </tr>\n",
              "    <tr>\n",
              "      <th>...</th>\n",
              "      <td>...</td>\n",
              "      <td>...</td>\n",
              "      <td>...</td>\n",
              "      <td>...</td>\n",
              "    </tr>\n",
              "    <tr>\n",
              "      <th>6298</th>\n",
              "      <td>little birds visit sign updates</td>\n",
              "      <td>-0.187500</td>\n",
              "      <td>0.500000</td>\n",
              "      <td>Negative</td>\n",
              "    </tr>\n",
              "    <tr>\n",
              "      <th>6301</th>\n",
              "      <td>go behind scenes music video shoot live offici...</td>\n",
              "      <td>-0.087879</td>\n",
              "      <td>0.483333</td>\n",
              "      <td>Negative</td>\n",
              "    </tr>\n",
              "    <tr>\n",
              "      <th>6317</th>\n",
              "      <td>watch e trailer cyberpunk role playing game da...</td>\n",
              "      <td>-0.006250</td>\n",
              "      <td>0.345833</td>\n",
              "      <td>Negative</td>\n",
              "    </tr>\n",
              "    <tr>\n",
              "      <th>6341</th>\n",
              "      <td>witness darkest chapter conjuring universe the...</td>\n",
              "      <td>-0.147197</td>\n",
              "      <td>0.442955</td>\n",
              "      <td>Negative</td>\n",
              "    </tr>\n",
              "    <tr>\n",
              "      <th>6348</th>\n",
              "      <td>james corden ashton kutcher square rap battle ...</td>\n",
              "      <td>-0.012758</td>\n",
              "      <td>0.526182</td>\n",
              "      <td>Negative</td>\n",
              "    </tr>\n",
              "  </tbody>\n",
              "</table>\n",
              "<p>806 rows × 4 columns</p>\n",
              "</div>"
            ],
            "text/plain": [
              "                                            description  desc_sent  desc_pol  \\\n",
              "2     watch previous video subscribe watching like s...  -0.166667  0.166667   \n",
              "7     ice cream pint combination lock ice cream sand...  -0.283333  0.433333   \n",
              "11    shiva arrives time king ezekiel attempts take ...  -0.200000  0.400000   \n",
              "17    check patreon page full lesson claws belly tug...  -0.012963  0.610317   \n",
              "24    hard figure people showers please subscribe ea...  -0.150589  0.473653   \n",
              "...                                                 ...        ...       ...   \n",
              "6298                    little birds visit sign updates  -0.187500  0.500000   \n",
              "6301  go behind scenes music video shoot live offici...  -0.087879  0.483333   \n",
              "6317  watch e trailer cyberpunk role playing game da...  -0.006250  0.345833   \n",
              "6341  witness darkest chapter conjuring universe the...  -0.147197  0.442955   \n",
              "6348  james corden ashton kutcher square rap battle ...  -0.012758  0.526182   \n",
              "\n",
              "     desc_sent_type  \n",
              "2          Negative  \n",
              "7          Negative  \n",
              "11         Negative  \n",
              "17         Negative  \n",
              "24         Negative  \n",
              "...             ...  \n",
              "6298       Negative  \n",
              "6301       Negative  \n",
              "6317       Negative  \n",
              "6341       Negative  \n",
              "6348       Negative  \n",
              "\n",
              "[806 rows x 4 columns]"
            ]
          },
          "metadata": {
            "tags": []
          },
          "execution_count": 10
        }
      ]
    },
    {
      "cell_type": "markdown",
      "metadata": {
        "id": "JYa9pEXeVPA6"
      },
      "source": [
        "Hmmm, several of these don't really look all that negative. Let us examine the first sentence."
      ]
    },
    {
      "cell_type": "code",
      "metadata": {
        "id": "WaU-QLqVVPA6",
        "outputId": "f8342e08-8d52-432d-9adc-9df0b2f23fbc"
      },
      "source": [
        "df_pol_desc_default.iloc[2]['description']"
      ],
      "execution_count": null,
      "outputs": [
        {
          "output_type": "execute_result",
          "data": {
            "text/plain": [
              "'watch previous video subscribe watching like subscribe videos find instagram rudy mancuso pons bach effects caleb natale gregoryshots studios channels alesso jibawi puppets stocking sarkis pons tyson rudy mancuso studios'"
            ]
          },
          "metadata": {
            "tags": []
          },
          "execution_count": 11
        }
      ]
    },
    {
      "cell_type": "markdown",
      "metadata": {
        "id": "uLH15lcZVPA6"
      },
      "source": [
        "Let us examine what the most negative description in our dataset is."
      ]
    },
    {
      "cell_type": "code",
      "metadata": {
        "scrolled": true,
        "id": "KVGjtauPVPA6",
        "outputId": "e94a6908-bcf6-473e-9b05-dfd9a0bcd4df"
      },
      "source": [
        "df_pol_desc_default[df_pol_desc_default['desc_sent'] == df_pol_desc_default['desc_sent'].min()]"
      ],
      "execution_count": null,
      "outputs": [
        {
          "output_type": "execute_result",
          "data": {
            "text/html": [
              "<div>\n",
              "<style scoped>\n",
              "    .dataframe tbody tr th:only-of-type {\n",
              "        vertical-align: middle;\n",
              "    }\n",
              "\n",
              "    .dataframe tbody tr th {\n",
              "        vertical-align: top;\n",
              "    }\n",
              "\n",
              "    .dataframe thead th {\n",
              "        text-align: right;\n",
              "    }\n",
              "</style>\n",
              "<table border=\"1\" class=\"dataframe\">\n",
              "  <thead>\n",
              "    <tr style=\"text-align: right;\">\n",
              "      <th></th>\n",
              "      <th>description</th>\n",
              "      <th>desc_sent</th>\n",
              "      <th>desc_pol</th>\n",
              "      <th>desc_sent_type</th>\n",
              "    </tr>\n",
              "  </thead>\n",
              "  <tbody>\n",
              "    <tr>\n",
              "      <th>2368</th>\n",
              "      <td>carlisle said disgusted nba business partner</td>\n",
              "      <td>-1.0</td>\n",
              "      <td>1.0</td>\n",
              "      <td>Negative</td>\n",
              "    </tr>\n",
              "    <tr>\n",
              "      <th>4072</th>\n",
              "      <td>terrible inventors unite would think build shi...</td>\n",
              "      <td>-1.0</td>\n",
              "      <td>1.0</td>\n",
              "      <td>Negative</td>\n",
              "    </tr>\n",
              "  </tbody>\n",
              "</table>\n",
              "</div>"
            ],
            "text/plain": [
              "                                            description  desc_sent  desc_pol  \\\n",
              "2368       carlisle said disgusted nba business partner       -1.0       1.0   \n",
              "4072  terrible inventors unite would think build shi...       -1.0       1.0   \n",
              "\n",
              "     desc_sent_type  \n",
              "2368       Negative  \n",
              "4072       Negative  "
            ]
          },
          "metadata": {
            "tags": []
          },
          "execution_count": 12
        }
      ]
    },
    {
      "cell_type": "markdown",
      "metadata": {
        "id": "A09bDiVCVPA7"
      },
      "source": [
        "Ok, these do indeed seem very negative. \n",
        "\n",
        "I want to see if I can perform a more in-depth analysis of my text. Upon researching how TextBlob works, I see that we are given the choice of algorithm we want to use to conduct the analysis. The default analyzer is PatternAnalyzer, which is a classifier built on the pattern library. There is another algorithm we can use - the NaiveBayesAnalyzer. This analyzer is an NLTK model that is trained on a movie reviews corpus.\n",
        "\n",
        "(I downloaded the movie reviews corpus earlier in this notebook anticipating that I will need it at a later point, but if you don't have it installed then you should do that before running the next couple of cells).\n",
        "\n",
        "Running the NaiveBayesAnalyzer takes a lot more time than running the PatternAnalyzer, and so I am going to deal with this by dividing my dataset into batches and then running it one batch at a time."
      ]
    },
    {
      "cell_type": "code",
      "metadata": {
        "id": "3B8vW2sRVPA7",
        "outputId": "51a15671-eac7-49d9-a810-a565c9e0a56f"
      },
      "source": [
        "len(df_desc)"
      ],
      "execution_count": null,
      "outputs": [
        {
          "output_type": "execute_result",
          "data": {
            "text/plain": [
              "6351"
            ]
          },
          "metadata": {
            "tags": []
          },
          "execution_count": 13
        }
      ]
    },
    {
      "cell_type": "code",
      "metadata": {
        "id": "7dZcMETLVPA7",
        "outputId": "185b0f65-22f5-4c31-fcc2-b41264a39cbc"
      },
      "source": [
        "int(len(df_desc)/10)"
      ],
      "execution_count": null,
      "outputs": [
        {
          "output_type": "execute_result",
          "data": {
            "text/plain": [
              "635"
            ]
          },
          "metadata": {
            "tags": []
          },
          "execution_count": 14
        }
      ]
    },
    {
      "cell_type": "markdown",
      "metadata": {
        "id": "E-yEizorVPA7"
      },
      "source": [
        "So, if i want to divide my dataset into 10 batches, the first 9 should contain 635 rows and the 10th batch should contain 636 rows."
      ]
    },
    {
      "cell_type": "code",
      "metadata": {
        "id": "4kQmLz6BVPA7",
        "outputId": "188b1427-a6e7-4985-8705-8851a665d172"
      },
      "source": [
        "sents_desc = list()\n",
        "i=0\n",
        "\n",
        "for batch in range(9):\n",
        "    for row in df_desc[i:i+635]:\n",
        "        blob = TextBlob(row, analyzer=NaiveBayesAnalyzer())\n",
        "        sents_desc.append((row, blob.sentiment.p_pos, blob.sentiment.p_neg, blob.sentiment.classification))\n",
        "        df_pol_desc_nb = pd.DataFrame(sents_desc, columns = ['description','percent_pos','percent_neg', 'sentiment_type'])\n",
        "    i += 635\n",
        "    print('Batch {} done'.format(batch))\n",
        "\n",
        "for row in df_desc[5715:]:\n",
        "    blob = TextBlob(row, analyzer=NaiveBayesAnalyzer())\n",
        "    sents_desc.append((row, blob.sentiment.p_pos, blob.sentiment.p_neg, blob.sentiment.classification))\n",
        "    df_pol_desc_nb = pd.DataFrame(sents_desc, columns = ['description','percent_pos','percent_neg', 'sentiment_type'])"
      ],
      "execution_count": null,
      "outputs": [
        {
          "output_type": "stream",
          "text": [
            "Batch 0 done\n",
            "Batch 1 done\n",
            "Batch 2 done\n",
            "Batch 3 done\n",
            "Batch 4 done\n",
            "Batch 5 done\n",
            "Batch 6 done\n",
            "Batch 7 done\n",
            "Batch 8 done\n"
          ],
          "name": "stdout"
        }
      ]
    },
    {
      "cell_type": "code",
      "metadata": {
        "id": "zqdYZ_H7VPA9"
      },
      "source": [
        "file = open('df_after_naive_bayes.pkl', 'wb')\n",
        "pickle.dump(df_pol_desc_nb, file)\n",
        "file.close()"
      ],
      "execution_count": null,
      "outputs": []
    },
    {
      "cell_type": "code",
      "metadata": {
        "scrolled": true,
        "id": "pFzhuMb5VPA9",
        "outputId": "14145f41-110a-454c-d153-071130a53901"
      },
      "source": [
        "df_pol_desc_nb"
      ],
      "execution_count": null,
      "outputs": [
        {
          "output_type": "execute_result",
          "data": {
            "text/html": [
              "<div>\n",
              "<style scoped>\n",
              "    .dataframe tbody tr th:only-of-type {\n",
              "        vertical-align: middle;\n",
              "    }\n",
              "\n",
              "    .dataframe tbody tr th {\n",
              "        vertical-align: top;\n",
              "    }\n",
              "\n",
              "    .dataframe thead th {\n",
              "        text-align: right;\n",
              "    }\n",
              "</style>\n",
              "<table border=\"1\" class=\"dataframe\">\n",
              "  <thead>\n",
              "    <tr style=\"text-align: right;\">\n",
              "      <th></th>\n",
              "      <th>description</th>\n",
              "      <th>percent_pos</th>\n",
              "      <th>percent_neg</th>\n",
              "      <th>sentiment_type</th>\n",
              "    </tr>\n",
              "  </thead>\n",
              "  <tbody>\n",
              "    <tr>\n",
              "      <th>0</th>\n",
              "      <td>shantell channel video k lens drone gear camer...</td>\n",
              "      <td>0.962969</td>\n",
              "      <td>3.703134e-02</td>\n",
              "      <td>pos</td>\n",
              "    </tr>\n",
              "    <tr>\n",
              "      <th>1</th>\n",
              "      <td>one year presidential election john oliver dis...</td>\n",
              "      <td>0.995525</td>\n",
              "      <td>4.475249e-03</td>\n",
              "      <td>pos</td>\n",
              "    </tr>\n",
              "    <tr>\n",
              "      <th>2</th>\n",
              "      <td>watch previous video subscribe watching like s...</td>\n",
              "      <td>0.757446</td>\n",
              "      <td>2.425543e-01</td>\n",
              "      <td>pos</td>\n",
              "    </tr>\n",
              "    <tr>\n",
              "      <th>3</th>\n",
              "      <td>today find link nickelback amateur secret nick...</td>\n",
              "      <td>0.832617</td>\n",
              "      <td>1.673830e-01</td>\n",
              "      <td>pos</td>\n",
              "    </tr>\n",
              "    <tr>\n",
              "      <th>4</th>\n",
              "      <td>know since show back might best episode yet le...</td>\n",
              "      <td>0.326614</td>\n",
              "      <td>6.733864e-01</td>\n",
              "      <td>neg</td>\n",
              "    </tr>\n",
              "    <tr>\n",
              "      <th>...</th>\n",
              "      <td>...</td>\n",
              "      <td>...</td>\n",
              "      <td>...</td>\n",
              "      <td>...</td>\n",
              "    </tr>\n",
              "    <tr>\n",
              "      <th>6346</th>\n",
              "      <td>hey larlees todays video testing crayola makeu...</td>\n",
              "      <td>0.119633</td>\n",
              "      <td>8.803673e-01</td>\n",
              "      <td>neg</td>\n",
              "    </tr>\n",
              "    <tr>\n",
              "      <th>6347</th>\n",
              "      <td>first take stephen smith max kellerman react k...</td>\n",
              "      <td>0.944167</td>\n",
              "      <td>5.583341e-02</td>\n",
              "      <td>pos</td>\n",
              "    </tr>\n",
              "    <tr>\n",
              "      <th>6348</th>\n",
              "      <td>james corden ashton kutcher square rap battle ...</td>\n",
              "      <td>0.336782</td>\n",
              "      <td>6.632183e-01</td>\n",
              "      <td>neg</td>\n",
              "    </tr>\n",
              "    <tr>\n",
              "      <th>6349</th>\n",
              "      <td>ground chuck great purpose buy anywhere choice...</td>\n",
              "      <td>0.999598</td>\n",
              "      <td>4.016290e-04</td>\n",
              "      <td>pos</td>\n",
              "    </tr>\n",
              "    <tr>\n",
              "      <th>6350</th>\n",
              "      <td>katherine talks learning accents growing austr...</td>\n",
              "      <td>1.000000</td>\n",
              "      <td>8.273227e-12</td>\n",
              "      <td>pos</td>\n",
              "    </tr>\n",
              "  </tbody>\n",
              "</table>\n",
              "<p>6351 rows × 4 columns</p>\n",
              "</div>"
            ],
            "text/plain": [
              "                                            description  percent_pos  \\\n",
              "0     shantell channel video k lens drone gear camer...     0.962969   \n",
              "1     one year presidential election john oliver dis...     0.995525   \n",
              "2     watch previous video subscribe watching like s...     0.757446   \n",
              "3     today find link nickelback amateur secret nick...     0.832617   \n",
              "4     know since show back might best episode yet le...     0.326614   \n",
              "...                                                 ...          ...   \n",
              "6346  hey larlees todays video testing crayola makeu...     0.119633   \n",
              "6347  first take stephen smith max kellerman react k...     0.944167   \n",
              "6348  james corden ashton kutcher square rap battle ...     0.336782   \n",
              "6349  ground chuck great purpose buy anywhere choice...     0.999598   \n",
              "6350  katherine talks learning accents growing austr...     1.000000   \n",
              "\n",
              "       percent_neg sentiment_type  \n",
              "0     3.703134e-02            pos  \n",
              "1     4.475249e-03            pos  \n",
              "2     2.425543e-01            pos  \n",
              "3     1.673830e-01            pos  \n",
              "4     6.733864e-01            neg  \n",
              "...            ...            ...  \n",
              "6346  8.803673e-01            neg  \n",
              "6347  5.583341e-02            pos  \n",
              "6348  6.632183e-01            neg  \n",
              "6349  4.016290e-04            pos  \n",
              "6350  8.273227e-12            pos  \n",
              "\n",
              "[6351 rows x 4 columns]"
            ]
          },
          "metadata": {
            "tags": []
          },
          "execution_count": 17
        }
      ]
    },
    {
      "cell_type": "code",
      "metadata": {
        "id": "b_ogHJGJVPA-",
        "outputId": "a3d81044-858c-4a2f-c213-e552e2a3473f"
      },
      "source": [
        "sns.set_style(\"whitegrid\")\n",
        "sns.countplot(x=\"sentiment_type\", data=df_pol_desc_nb)"
      ],
      "execution_count": null,
      "outputs": [
        {
          "output_type": "execute_result",
          "data": {
            "text/plain": [
              "<AxesSubplot:xlabel='sentiment_type', ylabel='count'>"
            ]
          },
          "metadata": {
            "tags": []
          },
          "execution_count": 18
        },
        {
          "output_type": "display_data",
          "data": {
            "image/png": "[encoded data removed]",
            "text/plain": [
              "<Figure size 432x288 with 1 Axes>"
            ]
          },
          "metadata": {
            "tags": []
          }
        }
      ]
    },
    {
      "cell_type": "markdown",
      "metadata": {
        "id": "FBYGE8HLVPA-"
      },
      "source": [
        "Let us compare the sentiments we calculated using the default PatternAnalyzer and the NaiveBayesAnalyzer and see where the differences lie."
      ]
    },
    {
      "cell_type": "code",
      "metadata": {
        "id": "UrwuRvUTVPA-",
        "outputId": "f9a03d14-bb3b-450f-bfd4-d617226944bf"
      },
      "source": [
        "len(df_pol_desc_nb)"
      ],
      "execution_count": null,
      "outputs": [
        {
          "output_type": "execute_result",
          "data": {
            "text/plain": [
              "6351"
            ]
          },
          "metadata": {
            "tags": []
          },
          "execution_count": 35
        }
      ]
    },
    {
      "cell_type": "code",
      "metadata": {
        "id": "kLd7q01vVPA_",
        "outputId": "a36a139c-5141-4528-84df-496e45ab79fc"
      },
      "source": [
        "sum(df_pol_desc_default['description'] == df_pol_desc_nb['description'])"
      ],
      "execution_count": null,
      "outputs": [
        {
          "output_type": "execute_result",
          "data": {
            "text/plain": [
              "6351"
            ]
          },
          "metadata": {
            "tags": []
          },
          "execution_count": 45
        }
      ]
    },
    {
      "cell_type": "code",
      "metadata": {
        "id": "HVaRTLMUVPA_"
      },
      "source": [
        "df_combined_sent = df_pol_desc_default.merge(df_pol_desc_nb, left_on = 'description', right_on='description')"
      ],
      "execution_count": null,
      "outputs": []
    },
    {
      "cell_type": "code",
      "metadata": {
        "id": "Bn3BLDPAVPBA",
        "outputId": "25df41f8-0d0e-450c-90b6-253b882226c7"
      },
      "source": [
        "df_combined_sent"
      ],
      "execution_count": null,
      "outputs": [
        {
          "output_type": "execute_result",
          "data": {
            "text/html": [
              "<div>\n",
              "<style scoped>\n",
              "    .dataframe tbody tr th:only-of-type {\n",
              "        vertical-align: middle;\n",
              "    }\n",
              "\n",
              "    .dataframe tbody tr th {\n",
              "        vertical-align: top;\n",
              "    }\n",
              "\n",
              "    .dataframe thead th {\n",
              "        text-align: right;\n",
              "    }\n",
              "</style>\n",
              "<table border=\"1\" class=\"dataframe\">\n",
              "  <thead>\n",
              "    <tr style=\"text-align: right;\">\n",
              "      <th></th>\n",
              "      <th>description</th>\n",
              "      <th>desc_sent</th>\n",
              "      <th>desc_pol</th>\n",
              "      <th>desc_sent_type</th>\n",
              "      <th>percent_pos</th>\n",
              "      <th>percent_neg</th>\n",
              "      <th>sentiment_type</th>\n",
              "    </tr>\n",
              "  </thead>\n",
              "  <tbody>\n",
              "    <tr>\n",
              "      <th>0</th>\n",
              "      <td>shantell channel video k lens drone gear camer...</td>\n",
              "      <td>0.075000</td>\n",
              "      <td>0.558333</td>\n",
              "      <td>Positive</td>\n",
              "      <td>0.962969</td>\n",
              "      <td>3.703134e-02</td>\n",
              "      <td>pos</td>\n",
              "    </tr>\n",
              "    <tr>\n",
              "      <th>1</th>\n",
              "      <td>one year presidential election john oliver dis...</td>\n",
              "      <td>0.025000</td>\n",
              "      <td>0.300000</td>\n",
              "      <td>Positive</td>\n",
              "      <td>0.995525</td>\n",
              "      <td>4.475249e-03</td>\n",
              "      <td>pos</td>\n",
              "    </tr>\n",
              "    <tr>\n",
              "      <th>2</th>\n",
              "      <td>watch previous video subscribe watching like s...</td>\n",
              "      <td>-0.166667</td>\n",
              "      <td>0.166667</td>\n",
              "      <td>Negative</td>\n",
              "      <td>0.757446</td>\n",
              "      <td>2.425543e-01</td>\n",
              "      <td>pos</td>\n",
              "    </tr>\n",
              "    <tr>\n",
              "      <th>3</th>\n",
              "      <td>today find link nickelback amateur secret nick...</td>\n",
              "      <td>0.031061</td>\n",
              "      <td>0.350758</td>\n",
              "      <td>Positive</td>\n",
              "      <td>0.832617</td>\n",
              "      <td>1.673830e-01</td>\n",
              "      <td>pos</td>\n",
              "    </tr>\n",
              "    <tr>\n",
              "      <th>4</th>\n",
              "      <td>know since show back might best episode yet le...</td>\n",
              "      <td>0.459091</td>\n",
              "      <td>0.338636</td>\n",
              "      <td>Positive</td>\n",
              "      <td>0.326614</td>\n",
              "      <td>6.733864e-01</td>\n",
              "      <td>neg</td>\n",
              "    </tr>\n",
              "    <tr>\n",
              "      <th>...</th>\n",
              "      <td>...</td>\n",
              "      <td>...</td>\n",
              "      <td>...</td>\n",
              "      <td>...</td>\n",
              "      <td>...</td>\n",
              "      <td>...</td>\n",
              "      <td>...</td>\n",
              "    </tr>\n",
              "    <tr>\n",
              "      <th>17574</th>\n",
              "      <td>hey larlees todays video testing crayola makeu...</td>\n",
              "      <td>0.450758</td>\n",
              "      <td>0.578220</td>\n",
              "      <td>Positive</td>\n",
              "      <td>0.119633</td>\n",
              "      <td>8.803673e-01</td>\n",
              "      <td>neg</td>\n",
              "    </tr>\n",
              "    <tr>\n",
              "      <th>17575</th>\n",
              "      <td>first take stephen smith max kellerman react k...</td>\n",
              "      <td>0.258333</td>\n",
              "      <td>0.408333</td>\n",
              "      <td>Positive</td>\n",
              "      <td>0.944167</td>\n",
              "      <td>5.583341e-02</td>\n",
              "      <td>pos</td>\n",
              "    </tr>\n",
              "    <tr>\n",
              "      <th>17576</th>\n",
              "      <td>james corden ashton kutcher square rap battle ...</td>\n",
              "      <td>-0.012758</td>\n",
              "      <td>0.526182</td>\n",
              "      <td>Negative</td>\n",
              "      <td>0.336782</td>\n",
              "      <td>6.632183e-01</td>\n",
              "      <td>neg</td>\n",
              "    </tr>\n",
              "    <tr>\n",
              "      <th>17577</th>\n",
              "      <td>ground chuck great purpose buy anywhere choice...</td>\n",
              "      <td>0.310000</td>\n",
              "      <td>0.620000</td>\n",
              "      <td>Positive</td>\n",
              "      <td>0.999598</td>\n",
              "      <td>4.016290e-04</td>\n",
              "      <td>pos</td>\n",
              "    </tr>\n",
              "    <tr>\n",
              "      <th>17578</th>\n",
              "      <td>katherine talks learning accents growing austr...</td>\n",
              "      <td>0.071629</td>\n",
              "      <td>0.639583</td>\n",
              "      <td>Positive</td>\n",
              "      <td>1.000000</td>\n",
              "      <td>8.273227e-12</td>\n",
              "      <td>pos</td>\n",
              "    </tr>\n",
              "  </tbody>\n",
              "</table>\n",
              "<p>17579 rows × 7 columns</p>\n",
              "</div>"
            ],
            "text/plain": [
              "                                             description  desc_sent  desc_pol  \\\n",
              "0      shantell channel video k lens drone gear camer...   0.075000  0.558333   \n",
              "1      one year presidential election john oliver dis...   0.025000  0.300000   \n",
              "2      watch previous video subscribe watching like s...  -0.166667  0.166667   \n",
              "3      today find link nickelback amateur secret nick...   0.031061  0.350758   \n",
              "4      know since show back might best episode yet le...   0.459091  0.338636   \n",
              "...                                                  ...        ...       ...   \n",
              "17574  hey larlees todays video testing crayola makeu...   0.450758  0.578220   \n",
              "17575  first take stephen smith max kellerman react k...   0.258333  0.408333   \n",
              "17576  james corden ashton kutcher square rap battle ...  -0.012758  0.526182   \n",
              "17577  ground chuck great purpose buy anywhere choice...   0.310000  0.620000   \n",
              "17578  katherine talks learning accents growing austr...   0.071629  0.639583   \n",
              "\n",
              "      desc_sent_type  percent_pos   percent_neg sentiment_type  \n",
              "0           Positive     0.962969  3.703134e-02            pos  \n",
              "1           Positive     0.995525  4.475249e-03            pos  \n",
              "2           Negative     0.757446  2.425543e-01            pos  \n",
              "3           Positive     0.832617  1.673830e-01            pos  \n",
              "4           Positive     0.326614  6.733864e-01            neg  \n",
              "...              ...          ...           ...            ...  \n",
              "17574       Positive     0.119633  8.803673e-01            neg  \n",
              "17575       Positive     0.944167  5.583341e-02            pos  \n",
              "17576       Negative     0.336782  6.632183e-01            neg  \n",
              "17577       Positive     0.999598  4.016290e-04            pos  \n",
              "17578       Positive     1.000000  8.273227e-12            pos  \n",
              "\n",
              "[17579 rows x 7 columns]"
            ]
          },
          "metadata": {
            "tags": []
          },
          "execution_count": 41
        }
      ]
    },
    {
      "cell_type": "code",
      "metadata": {
        "id": "zaTCpnltVPBB",
        "outputId": "0f0c2cf3-9279-48e7-9e15-e6ad14738da8"
      },
      "source": [
        "print(\"There are {} video descriptions that PatternAnalyzer has labeled as negative, and there are {} video descriptions that NaiveBayesAnalyzer has labeled as negative.\".format(sum(df_combined_sent['desc_sent_type'] == 'Negative'), sum(df_combined_sent['sentiment_type'] == 'neg')))"
      ],
      "execution_count": null,
      "outputs": [
        {
          "output_type": "stream",
          "text": [
            "There are 818 video descriptions that PatternAnalyzer has labeled as negative, and there are 1039 video descriptions that NaiveBayesAnalyzer has labeled as negative.\n"
          ],
          "name": "stdout"
        }
      ]
    },
    {
      "cell_type": "markdown",
      "metadata": {
        "id": "dw5A50vRVPBB"
      },
      "source": [
        "Let us look at the ones that PatternAnalyzer called positive and the NaiveBayesAnalyzer labeled as negative. Maybe the difference between percent_pos and percent_neg is very small?"
      ]
    },
    {
      "cell_type": "code",
      "metadata": {
        "scrolled": true,
        "id": "IH06rjW5VPBB",
        "outputId": "671035c0-1537-4942-9bd2-5831a00b489e"
      },
      "source": [
        "df_combined_sent[(df_combined_sent['desc_sent_type'] != 'Negative') & (df_combined_sent['sentiment_type'] == 'neg')]"
      ],
      "execution_count": null,
      "outputs": [
        {
          "output_type": "execute_result",
          "data": {
            "text/html": [
              "<div>\n",
              "<style scoped>\n",
              "    .dataframe tbody tr th:only-of-type {\n",
              "        vertical-align: middle;\n",
              "    }\n",
              "\n",
              "    .dataframe tbody tr th {\n",
              "        vertical-align: top;\n",
              "    }\n",
              "\n",
              "    .dataframe thead th {\n",
              "        text-align: right;\n",
              "    }\n",
              "</style>\n",
              "<table border=\"1\" class=\"dataframe\">\n",
              "  <thead>\n",
              "    <tr style=\"text-align: right;\">\n",
              "      <th></th>\n",
              "      <th>description</th>\n",
              "      <th>desc_sent</th>\n",
              "      <th>desc_pol</th>\n",
              "      <th>desc_sent_type</th>\n",
              "      <th>percent_pos</th>\n",
              "      <th>percent_neg</th>\n",
              "      <th>sentiment_type</th>\n",
              "    </tr>\n",
              "  </thead>\n",
              "  <tbody>\n",
              "    <tr>\n",
              "      <th>4</th>\n",
              "      <td>know since show back might best episode yet le...</td>\n",
              "      <td>0.459091</td>\n",
              "      <td>0.338636</td>\n",
              "      <td>Positive</td>\n",
              "      <td>0.326614</td>\n",
              "      <td>0.673386</td>\n",
              "      <td>neg</td>\n",
              "    </tr>\n",
              "    <tr>\n",
              "      <th>15</th>\n",
              "      <td>information stay tuned</td>\n",
              "      <td>0.000000</td>\n",
              "      <td>0.000000</td>\n",
              "      <td>Neutral</td>\n",
              "      <td>0.413743</td>\n",
              "      <td>0.586257</td>\n",
              "      <td>neg</td>\n",
              "    </tr>\n",
              "    <tr>\n",
              "      <th>21</th>\n",
              "      <td>year designercon meet ironhead studio costume ...</td>\n",
              "      <td>0.700000</td>\n",
              "      <td>0.750000</td>\n",
              "      <td>Positive</td>\n",
              "      <td>0.001372</td>\n",
              "      <td>0.998628</td>\n",
              "      <td>neg</td>\n",
              "    </tr>\n",
              "    <tr>\n",
              "      <th>28</th>\n",
              "      <td>lebron james gave another time press conferenc...</td>\n",
              "      <td>0.136364</td>\n",
              "      <td>0.454545</td>\n",
              "      <td>Positive</td>\n",
              "      <td>0.473098</td>\n",
              "      <td>0.526902</td>\n",
              "      <td>neg</td>\n",
              "    </tr>\n",
              "    <tr>\n",
              "      <th>29</th>\n",
              "      <td>opening freaks geeks episode band</td>\n",
              "      <td>0.000000</td>\n",
              "      <td>0.000000</td>\n",
              "      <td>Neutral</td>\n",
              "      <td>0.454032</td>\n",
              "      <td>0.545968</td>\n",
              "      <td>neg</td>\n",
              "    </tr>\n",
              "    <tr>\n",
              "      <th>...</th>\n",
              "      <td>...</td>\n",
              "      <td>...</td>\n",
              "      <td>...</td>\n",
              "      <td>...</td>\n",
              "      <td>...</td>\n",
              "      <td>...</td>\n",
              "      <td>...</td>\n",
              "    </tr>\n",
              "    <tr>\n",
              "      <th>17550</th>\n",
              "      <td>shaquille neal explained ellen brief stint imp...</td>\n",
              "      <td>0.000000</td>\n",
              "      <td>0.333333</td>\n",
              "      <td>Neutral</td>\n",
              "      <td>0.398529</td>\n",
              "      <td>0.601471</td>\n",
              "      <td>neg</td>\n",
              "    </tr>\n",
              "    <tr>\n",
              "      <th>17551</th>\n",
              "      <td>get first look fallout prequel four times size...</td>\n",
              "      <td>0.250000</td>\n",
              "      <td>0.333333</td>\n",
              "      <td>Positive</td>\n",
              "      <td>0.471976</td>\n",
              "      <td>0.528024</td>\n",
              "      <td>neg</td>\n",
              "    </tr>\n",
              "    <tr>\n",
              "      <th>17554</th>\n",
              "      <td>front hillary ben kronengold benkgold shaw reb...</td>\n",
              "      <td>0.000000</td>\n",
              "      <td>0.000000</td>\n",
              "      <td>Neutral</td>\n",
              "      <td>0.360577</td>\n",
              "      <td>0.639423</td>\n",
              "      <td>neg</td>\n",
              "    </tr>\n",
              "    <tr>\n",
              "      <th>17558</th>\n",
              "      <td>every fighter super smash bros series entire h...</td>\n",
              "      <td>0.146296</td>\n",
              "      <td>0.484259</td>\n",
              "      <td>Positive</td>\n",
              "      <td>0.388711</td>\n",
              "      <td>0.611289</td>\n",
              "      <td>neg</td>\n",
              "    </tr>\n",
              "    <tr>\n",
              "      <th>17574</th>\n",
              "      <td>hey larlees todays video testing crayola makeu...</td>\n",
              "      <td>0.450758</td>\n",
              "      <td>0.578220</td>\n",
              "      <td>Positive</td>\n",
              "      <td>0.119633</td>\n",
              "      <td>0.880367</td>\n",
              "      <td>neg</td>\n",
              "    </tr>\n",
              "  </tbody>\n",
              "</table>\n",
              "<p>874 rows × 7 columns</p>\n",
              "</div>"
            ],
            "text/plain": [
              "                                             description  desc_sent  desc_pol  \\\n",
              "4      know since show back might best episode yet le...   0.459091  0.338636   \n",
              "15                                information stay tuned   0.000000  0.000000   \n",
              "21     year designercon meet ironhead studio costume ...   0.700000  0.750000   \n",
              "28     lebron james gave another time press conferenc...   0.136364  0.454545   \n",
              "29                     opening freaks geeks episode band   0.000000  0.000000   \n",
              "...                                                  ...        ...       ...   \n",
              "17550  shaquille neal explained ellen brief stint imp...   0.000000  0.333333   \n",
              "17551  get first look fallout prequel four times size...   0.250000  0.333333   \n",
              "17554  front hillary ben kronengold benkgold shaw reb...   0.000000  0.000000   \n",
              "17558  every fighter super smash bros series entire h...   0.146296  0.484259   \n",
              "17574  hey larlees todays video testing crayola makeu...   0.450758  0.578220   \n",
              "\n",
              "      desc_sent_type  percent_pos  percent_neg sentiment_type  \n",
              "4           Positive     0.326614     0.673386            neg  \n",
              "15           Neutral     0.413743     0.586257            neg  \n",
              "21          Positive     0.001372     0.998628            neg  \n",
              "28          Positive     0.473098     0.526902            neg  \n",
              "29           Neutral     0.454032     0.545968            neg  \n",
              "...              ...          ...          ...            ...  \n",
              "17550        Neutral     0.398529     0.601471            neg  \n",
              "17551       Positive     0.471976     0.528024            neg  \n",
              "17554        Neutral     0.360577     0.639423            neg  \n",
              "17558       Positive     0.388711     0.611289            neg  \n",
              "17574       Positive     0.119633     0.880367            neg  \n",
              "\n",
              "[874 rows x 7 columns]"
            ]
          },
          "metadata": {
            "tags": []
          },
          "execution_count": 31
        }
      ]
    },
    {
      "cell_type": "markdown",
      "metadata": {
        "id": "bWBVdz9lVPBC"
      },
      "source": [
        "Let us examine the ones where percent_neg >> percent_pos but PatternAnalyzer still labeled them as positive/neutral."
      ]
    },
    {
      "cell_type": "code",
      "metadata": {
        "id": "tsKfQOieVPBC",
        "outputId": "2704669d-e739-40ae-e465-66be3214e6f0"
      },
      "source": [
        "len(df_combined_sent['sentiment_type'] == 'neg')"
      ],
      "execution_count": null,
      "outputs": [
        {
          "output_type": "execute_result",
          "data": {
            "text/plain": [
              "17579"
            ]
          },
          "metadata": {
            "tags": []
          },
          "execution_count": 33
        }
      ]
    },
    {
      "cell_type": "code",
      "metadata": {
        "id": "DcOMnCMBVPBD",
        "outputId": "6a0c7f83-14bf-423a-ebda-e10ffceccf6b"
      },
      "source": [
        "df_combined_sent[(df_combined_sent['desc_sent_type'] != 'Negative') & (df_combined_sent['sentiment_type'] == 'neg') & (df_combined_sent['percent_neg'] >= 0.8)]"
      ],
      "execution_count": null,
      "outputs": [
        {
          "output_type": "execute_result",
          "data": {
            "text/html": [
              "<div>\n",
              "<style scoped>\n",
              "    .dataframe tbody tr th:only-of-type {\n",
              "        vertical-align: middle;\n",
              "    }\n",
              "\n",
              "    .dataframe tbody tr th {\n",
              "        vertical-align: top;\n",
              "    }\n",
              "\n",
              "    .dataframe thead th {\n",
              "        text-align: right;\n",
              "    }\n",
              "</style>\n",
              "<table border=\"1\" class=\"dataframe\">\n",
              "  <thead>\n",
              "    <tr style=\"text-align: right;\">\n",
              "      <th></th>\n",
              "      <th>description</th>\n",
              "      <th>desc_sent</th>\n",
              "      <th>desc_pol</th>\n",
              "      <th>desc_sent_type</th>\n",
              "      <th>percent_pos</th>\n",
              "      <th>percent_neg</th>\n",
              "      <th>sentiment_type</th>\n",
              "    </tr>\n",
              "  </thead>\n",
              "  <tbody>\n",
              "    <tr>\n",
              "      <th>21</th>\n",
              "      <td>year designercon meet ironhead studio costume ...</td>\n",
              "      <td>0.700000</td>\n",
              "      <td>0.750000</td>\n",
              "      <td>Positive</td>\n",
              "      <td>0.001372</td>\n",
              "      <td>0.998628</td>\n",
              "      <td>neg</td>\n",
              "    </tr>\n",
              "    <tr>\n",
              "      <th>10455</th>\n",
              "      <td>jennifer lopez ft wisin amor amor amor officia...</td>\n",
              "      <td>0.200000</td>\n",
              "      <td>0.200000</td>\n",
              "      <td>Positive</td>\n",
              "      <td>0.181276</td>\n",
              "      <td>0.818724</td>\n",
              "      <td>neg</td>\n",
              "    </tr>\n",
              "    <tr>\n",
              "      <th>10460</th>\n",
              "      <td>occurred november ha noi vietnamwhen walking d...</td>\n",
              "      <td>0.450000</td>\n",
              "      <td>0.262500</td>\n",
              "      <td>Positive</td>\n",
              "      <td>0.007353</td>\n",
              "      <td>0.992647</td>\n",
              "      <td>neg</td>\n",
              "    </tr>\n",
              "    <tr>\n",
              "      <th>10485</th>\n",
              "      <td>seattle seahawks richard sherman criticizes nf...</td>\n",
              "      <td>0.000000</td>\n",
              "      <td>0.000000</td>\n",
              "      <td>Neutral</td>\n",
              "      <td>0.128290</td>\n",
              "      <td>0.871710</td>\n",
              "      <td>neg</td>\n",
              "    </tr>\n",
              "    <tr>\n",
              "      <th>10490</th>\n",
              "      <td>follow us behind scenes making video falls for...</td>\n",
              "      <td>0.088095</td>\n",
              "      <td>0.402381</td>\n",
              "      <td>Positive</td>\n",
              "      <td>0.035342</td>\n",
              "      <td>0.964658</td>\n",
              "      <td>neg</td>\n",
              "    </tr>\n",
              "    <tr>\n",
              "      <th>...</th>\n",
              "      <td>...</td>\n",
              "      <td>...</td>\n",
              "      <td>...</td>\n",
              "      <td>...</td>\n",
              "      <td>...</td>\n",
              "      <td>...</td>\n",
              "      <td>...</td>\n",
              "    </tr>\n",
              "    <tr>\n",
              "      <th>17487</th>\n",
              "      <td>go say congrats girl natty reeves</td>\n",
              "      <td>0.000000</td>\n",
              "      <td>0.000000</td>\n",
              "      <td>Neutral</td>\n",
              "      <td>0.134797</td>\n",
              "      <td>0.865203</td>\n",
              "      <td>neg</td>\n",
              "    </tr>\n",
              "    <tr>\n",
              "      <th>17502</th>\n",
              "      <td>stephen smith gushes kevin durant performance ...</td>\n",
              "      <td>0.147222</td>\n",
              "      <td>0.516667</td>\n",
              "      <td>Positive</td>\n",
              "      <td>0.105768</td>\n",
              "      <td>0.894232</td>\n",
              "      <td>neg</td>\n",
              "    </tr>\n",
              "    <tr>\n",
              "      <th>17528</th>\n",
              "      <td>stephen smith joins sportscenter scott van pel...</td>\n",
              "      <td>0.136667</td>\n",
              "      <td>0.440000</td>\n",
              "      <td>Positive</td>\n",
              "      <td>0.019170</td>\n",
              "      <td>0.980830</td>\n",
              "      <td>neg</td>\n",
              "    </tr>\n",
              "    <tr>\n",
              "      <th>17534</th>\n",
              "      <td>click join prettylittlelaurs fam merch failed ...</td>\n",
              "      <td>0.100833</td>\n",
              "      <td>0.311667</td>\n",
              "      <td>Positive</td>\n",
              "      <td>0.157529</td>\n",
              "      <td>0.842471</td>\n",
              "      <td>neg</td>\n",
              "    </tr>\n",
              "    <tr>\n",
              "      <th>17574</th>\n",
              "      <td>hey larlees todays video testing crayola makeu...</td>\n",
              "      <td>0.450758</td>\n",
              "      <td>0.578220</td>\n",
              "      <td>Positive</td>\n",
              "      <td>0.119633</td>\n",
              "      <td>0.880367</td>\n",
              "      <td>neg</td>\n",
              "    </tr>\n",
              "  </tbody>\n",
              "</table>\n",
              "<p>345 rows × 7 columns</p>\n",
              "</div>"
            ],
            "text/plain": [
              "                                             description  desc_sent  desc_pol  \\\n",
              "21     year designercon meet ironhead studio costume ...   0.700000  0.750000   \n",
              "10455  jennifer lopez ft wisin amor amor amor officia...   0.200000  0.200000   \n",
              "10460  occurred november ha noi vietnamwhen walking d...   0.450000  0.262500   \n",
              "10485  seattle seahawks richard sherman criticizes nf...   0.000000  0.000000   \n",
              "10490  follow us behind scenes making video falls for...   0.088095  0.402381   \n",
              "...                                                  ...        ...       ...   \n",
              "17487                  go say congrats girl natty reeves   0.000000  0.000000   \n",
              "17502  stephen smith gushes kevin durant performance ...   0.147222  0.516667   \n",
              "17528  stephen smith joins sportscenter scott van pel...   0.136667  0.440000   \n",
              "17534  click join prettylittlelaurs fam merch failed ...   0.100833  0.311667   \n",
              "17574  hey larlees todays video testing crayola makeu...   0.450758  0.578220   \n",
              "\n",
              "      desc_sent_type  percent_pos  percent_neg sentiment_type  \n",
              "21          Positive     0.001372     0.998628            neg  \n",
              "10455       Positive     0.181276     0.818724            neg  \n",
              "10460       Positive     0.007353     0.992647            neg  \n",
              "10485        Neutral     0.128290     0.871710            neg  \n",
              "10490       Positive     0.035342     0.964658            neg  \n",
              "...              ...          ...          ...            ...  \n",
              "17487        Neutral     0.134797     0.865203            neg  \n",
              "17502       Positive     0.105768     0.894232            neg  \n",
              "17528       Positive     0.019170     0.980830            neg  \n",
              "17534       Positive     0.157529     0.842471            neg  \n",
              "17574       Positive     0.119633     0.880367            neg  \n",
              "\n",
              "[345 rows x 7 columns]"
            ]
          },
          "metadata": {
            "tags": []
          },
          "execution_count": 32
        }
      ]
    },
    {
      "cell_type": "code",
      "metadata": {
        "id": "ZbHaiTbgVPBE"
      },
      "source": [
        "df['text'] = df['title'] + ' ' + df['description']\n",
        "df_cluster = df[['video_id', 'category_id', 'category_name', 'title', 'text', 'tags']]"
      ],
      "execution_count": null,
      "outputs": []
    },
    {
      "cell_type": "code",
      "metadata": {
        "id": "ySrqKindVPBE",
        "outputId": "273ed488-9b5c-4073-addd-cb7deebd4404"
      },
      "source": [
        "df_cluster"
      ],
      "execution_count": null,
      "outputs": [
        {
          "output_type": "execute_result",
          "data": {
            "text/html": [
              "<div>\n",
              "<style scoped>\n",
              "    .dataframe tbody tr th:only-of-type {\n",
              "        vertical-align: middle;\n",
              "    }\n",
              "\n",
              "    .dataframe tbody tr th {\n",
              "        vertical-align: top;\n",
              "    }\n",
              "\n",
              "    .dataframe thead th {\n",
              "        text-align: right;\n",
              "    }\n",
              "</style>\n",
              "<table border=\"1\" class=\"dataframe\">\n",
              "  <thead>\n",
              "    <tr style=\"text-align: right;\">\n",
              "      <th></th>\n",
              "      <th>video_id</th>\n",
              "      <th>category_id</th>\n",
              "      <th>category_name</th>\n",
              "      <th>title</th>\n",
              "      <th>text</th>\n",
              "      <th>tags</th>\n",
              "    </tr>\n",
              "  </thead>\n",
              "  <tbody>\n",
              "    <tr>\n",
              "      <th>0</th>\n",
              "      <td>2kyS6SvSYSE</td>\n",
              "      <td>22</td>\n",
              "      <td>People &amp; Blogs</td>\n",
              "      <td>want talk marriage</td>\n",
              "      <td>want talk marriage shantell channel video k le...</td>\n",
              "      <td>SHANtell martin</td>\n",
              "    </tr>\n",
              "    <tr>\n",
              "      <th>1</th>\n",
              "      <td>1ZAPwfrtAFY</td>\n",
              "      <td>24</td>\n",
              "      <td>Entertainment</td>\n",
              "      <td>trump presidency last week tonight john oliver...</td>\n",
              "      <td>trump presidency last week tonight john oliver...</td>\n",
              "      <td>last week tonight trump presidency|\"last week ...</td>\n",
              "    </tr>\n",
              "    <tr>\n",
              "      <th>2</th>\n",
              "      <td>5qpjK5DgCt4</td>\n",
              "      <td>23</td>\n",
              "      <td>Comedy</td>\n",
              "      <td>racist superman rudy mancuso king bach lele pons</td>\n",
              "      <td>racist superman rudy mancuso king bach lele po...</td>\n",
              "      <td>racist superman|\"rudy\"|\"mancuso\"|\"king\"|\"bach\"...</td>\n",
              "    </tr>\n",
              "    <tr>\n",
              "      <th>3</th>\n",
              "      <td>puqaWrEC7tY</td>\n",
              "      <td>24</td>\n",
              "      <td>Entertainment</td>\n",
              "      <td>nickelback lyrics real fake</td>\n",
              "      <td>nickelback lyrics real fake today find link ni...</td>\n",
              "      <td>rhett and link|\"gmm\"|\"good mythical morning\"|\"...</td>\n",
              "    </tr>\n",
              "    <tr>\n",
              "      <th>4</th>\n",
              "      <td>d380meD0W0M</td>\n",
              "      <td>24</td>\n",
              "      <td>Entertainment</td>\n",
              "      <td>dare going bald</td>\n",
              "      <td>dare going bald know since show back might bes...</td>\n",
              "      <td>ryan|\"higa\"|\"higatv\"|\"nigahiga\"|\"i dare you\"|\"...</td>\n",
              "    </tr>\n",
              "    <tr>\n",
              "      <th>...</th>\n",
              "      <td>...</td>\n",
              "      <td>...</td>\n",
              "      <td>...</td>\n",
              "      <td>...</td>\n",
              "      <td>...</td>\n",
              "      <td>...</td>\n",
              "    </tr>\n",
              "    <tr>\n",
              "      <th>40760</th>\n",
              "      <td>dS5Thrl-4Kc</td>\n",
              "      <td>26</td>\n",
              "      <td>Howto &amp; Style</td>\n",
              "      <td>crayola makeup hit miss</td>\n",
              "      <td>crayola makeup hit miss hey larlees todays vid...</td>\n",
              "      <td>Laura88Lee|\"crayola\"|\"crayon makeup\"|\"crayola ...</td>\n",
              "    </tr>\n",
              "    <tr>\n",
              "      <th>40761</th>\n",
              "      <td>JGm9Y_hFqNk</td>\n",
              "      <td>17</td>\n",
              "      <td>Sports</td>\n",
              "      <td>first take reacts kyrie irving says contract e...</td>\n",
              "      <td>first take reacts kyrie irving says contract e...</td>\n",
              "      <td>espn|\"espn live\"|\"boston celtics\"|\"kyrie irvin...</td>\n",
              "    </tr>\n",
              "    <tr>\n",
              "      <th>40762</th>\n",
              "      <td>6h8QgZF5Qu4</td>\n",
              "      <td>24</td>\n",
              "      <td>Entertainment</td>\n",
              "      <td>drop mic w ashton kutcher sean diddy combs</td>\n",
              "      <td>drop mic w ashton kutcher sean diddy combs jam...</td>\n",
              "      <td>The Late Late Show|\"Late Late Show\"|\"James Cor...</td>\n",
              "    </tr>\n",
              "    <tr>\n",
              "      <th>40764</th>\n",
              "      <td>mpnshdmtE2Y</td>\n",
              "      <td>26</td>\n",
              "      <td>Howto &amp; Style</td>\n",
              "      <td>carla makes ba smashburgers test kitchen bon a...</td>\n",
              "      <td>carla makes ba smashburgers test kitchen bon a...</td>\n",
              "      <td>bon appetit|\"burgers\"|\"cheeseburgers\"|\"how to ...</td>\n",
              "    </tr>\n",
              "    <tr>\n",
              "      <th>40766</th>\n",
              "      <td>yz7Xq3T0YPs</td>\n",
              "      <td>24</td>\n",
              "      <td>Entertainment</td>\n",
              "      <td>katherine langford reasons australia doctor pa...</td>\n",
              "      <td>katherine langford reasons australia doctor pa...</td>\n",
              "      <td>jimmy|\"kimmel\"|\"live\"|\"late\"|\"night\"|\"talk\"|\"s...</td>\n",
              "    </tr>\n",
              "  </tbody>\n",
              "</table>\n",
              "<p>6351 rows × 6 columns</p>\n",
              "</div>"
            ],
            "text/plain": [
              "          video_id  category_id   category_name  \\\n",
              "0      2kyS6SvSYSE           22  People & Blogs   \n",
              "1      1ZAPwfrtAFY           24   Entertainment   \n",
              "2      5qpjK5DgCt4           23          Comedy   \n",
              "3      puqaWrEC7tY           24   Entertainment   \n",
              "4      d380meD0W0M           24   Entertainment   \n",
              "...            ...          ...             ...   \n",
              "40760  dS5Thrl-4Kc           26   Howto & Style   \n",
              "40761  JGm9Y_hFqNk           17          Sports   \n",
              "40762  6h8QgZF5Qu4           24   Entertainment   \n",
              "40764  mpnshdmtE2Y           26   Howto & Style   \n",
              "40766  yz7Xq3T0YPs           24   Entertainment   \n",
              "\n",
              "                                                   title  \\\n",
              "0                                     want talk marriage   \n",
              "1      trump presidency last week tonight john oliver...   \n",
              "2       racist superman rudy mancuso king bach lele pons   \n",
              "3                            nickelback lyrics real fake   \n",
              "4                                        dare going bald   \n",
              "...                                                  ...   \n",
              "40760                            crayola makeup hit miss   \n",
              "40761  first take reacts kyrie irving says contract e...   \n",
              "40762         drop mic w ashton kutcher sean diddy combs   \n",
              "40764  carla makes ba smashburgers test kitchen bon a...   \n",
              "40766  katherine langford reasons australia doctor pa...   \n",
              "\n",
              "                                                    text  \\\n",
              "0      want talk marriage shantell channel video k le...   \n",
              "1      trump presidency last week tonight john oliver...   \n",
              "2      racist superman rudy mancuso king bach lele po...   \n",
              "3      nickelback lyrics real fake today find link ni...   \n",
              "4      dare going bald know since show back might bes...   \n",
              "...                                                  ...   \n",
              "40760  crayola makeup hit miss hey larlees todays vid...   \n",
              "40761  first take reacts kyrie irving says contract e...   \n",
              "40762  drop mic w ashton kutcher sean diddy combs jam...   \n",
              "40764  carla makes ba smashburgers test kitchen bon a...   \n",
              "40766  katherine langford reasons australia doctor pa...   \n",
              "\n",
              "                                                    tags  \n",
              "0                                        SHANtell martin  \n",
              "1      last week tonight trump presidency|\"last week ...  \n",
              "2      racist superman|\"rudy\"|\"mancuso\"|\"king\"|\"bach\"...  \n",
              "3      rhett and link|\"gmm\"|\"good mythical morning\"|\"...  \n",
              "4      ryan|\"higa\"|\"higatv\"|\"nigahiga\"|\"i dare you\"|\"...  \n",
              "...                                                  ...  \n",
              "40760  Laura88Lee|\"crayola\"|\"crayon makeup\"|\"crayola ...  \n",
              "40761  espn|\"espn live\"|\"boston celtics\"|\"kyrie irvin...  \n",
              "40762  The Late Late Show|\"Late Late Show\"|\"James Cor...  \n",
              "40764  bon appetit|\"burgers\"|\"cheeseburgers\"|\"how to ...  \n",
              "40766  jimmy|\"kimmel\"|\"live\"|\"late\"|\"night\"|\"talk\"|\"s...  \n",
              "\n",
              "[6351 rows x 6 columns]"
            ]
          },
          "metadata": {
            "tags": []
          },
          "execution_count": 55
        }
      ]
    },
    {
      "cell_type": "markdown",
      "metadata": {
        "id": "VCjPZxGXVPBG"
      },
      "source": [
        "Now, I will perform clustering using all the text that describes the video - the title of the video and its description.\n",
        "\n",
        "I have already removed stopwords as part of feature engineering in my previous nextbook. All that is left to do now is turn the list of text into a vector of numbers and cluster it according to the frequency of certain words in different video title+descriptions. I will do this by calculating the Tfidf matrix (term frequency-inverse document frequency matrix) since that will tell me which words occur in which documents that are also relatively rare i.e. they carry more weight in describing the content of a specific document. "
      ]
    },
    {
      "cell_type": "code",
      "metadata": {
        "id": "HRq8qpnQVPBI"
      },
      "source": [
        "texts = df_cluster['text'].tolist()"
      ],
      "execution_count": null,
      "outputs": []
    },
    {
      "cell_type": "code",
      "metadata": {
        "id": "Eejm4l1ZVPBJ",
        "outputId": "874d10b9-62cd-4645-efe7-2207ff62b03f"
      },
      "source": [
        "from sklearn.feature_extraction.text import TfidfVectorizer\n",
        "\n",
        "tfidf = TfidfVectorizer(max_df=0.8, min_df=0.2)\n",
        "%time tfidf_matrix = tfidf.fit_transform(texts) \n",
        "\n",
        "print(tfidf_matrix.shape)"
      ],
      "execution_count": null,
      "outputs": [
        {
          "output_type": "stream",
          "text": [
            "CPU times: user 340 ms, sys: 4.66 ms, total: 345 ms\n",
            "Wall time: 345 ms\n",
            "(6351, 11)\n"
          ],
          "name": "stdout"
        }
      ]
    },
    {
      "cell_type": "code",
      "metadata": {
        "id": "rofGZlLaVPBJ"
      },
      "source": [
        "from sklearn.metrics.pairwise import cosine_similarity\n",
        "dist = 1 - cosine_similarity(tfidf_matrix)"
      ],
      "execution_count": null,
      "outputs": []
    },
    {
      "cell_type": "code",
      "metadata": {
        "id": "QuosHVoXVPBK",
        "outputId": "6d80bb42-b066-4794-d36a-a07fcb25f86e"
      },
      "source": [
        "from sklearn.cluster import KMeans\n",
        "\n",
        "kmeans = KMeans(n_clusters = 16)\n",
        "%time kmeans.fit(tfidf_matrix)\n",
        "\n",
        "clusters = kmeans.labels_.tolist()"
      ],
      "execution_count": null,
      "outputs": [
        {
          "output_type": "stream",
          "text": [
            "CPU times: user 3.04 s, sys: 118 ms, total: 3.15 s\n",
            "Wall time: 474 ms\n"
          ],
          "name": "stdout"
        }
      ]
    },
    {
      "cell_type": "code",
      "metadata": {
        "id": "K0FjaT5NVPBK",
        "outputId": "8270be07-76e0-4e8a-f585-31139613353b"
      },
      "source": [
        "df_cluster['clusters'] = clusters"
      ],
      "execution_count": null,
      "outputs": [
        {
          "output_type": "stream",
          "text": [
            "<ipython-input-70-40cc84b37e00>:1: SettingWithCopyWarning: \n",
            "A value is trying to be set on a copy of a slice from a DataFrame.\n",
            "Try using .loc[row_indexer,col_indexer] = value instead\n",
            "\n",
            "See the caveats in the documentation: https://pandas.pydata.org/pandas-docs/stable/user_guide/indexing.html#returning-a-view-versus-a-copy\n",
            "  df_cluster['clusters'] = clusters\n"
          ],
          "name": "stderr"
        }
      ]
    },
    {
      "cell_type": "code",
      "metadata": {
        "scrolled": true,
        "id": "839t7AH7VPBL",
        "outputId": "7c837210-80a2-4e7e-b0ff-0acba5d7eef4"
      },
      "source": [
        "df_cluster"
      ],
      "execution_count": null,
      "outputs": [
        {
          "output_type": "execute_result",
          "data": {
            "text/html": [
              "<div>\n",
              "<style scoped>\n",
              "    .dataframe tbody tr th:only-of-type {\n",
              "        vertical-align: middle;\n",
              "    }\n",
              "\n",
              "    .dataframe tbody tr th {\n",
              "        vertical-align: top;\n",
              "    }\n",
              "\n",
              "    .dataframe thead th {\n",
              "        text-align: right;\n",
              "    }\n",
              "</style>\n",
              "<table border=\"1\" class=\"dataframe\">\n",
              "  <thead>\n",
              "    <tr style=\"text-align: right;\">\n",
              "      <th></th>\n",
              "      <th>video_id</th>\n",
              "      <th>category_id</th>\n",
              "      <th>category_name</th>\n",
              "      <th>title</th>\n",
              "      <th>text</th>\n",
              "      <th>tags</th>\n",
              "      <th>clusters</th>\n",
              "    </tr>\n",
              "  </thead>\n",
              "  <tbody>\n",
              "    <tr>\n",
              "      <th>0</th>\n",
              "      <td>2kyS6SvSYSE</td>\n",
              "      <td>22</td>\n",
              "      <td>People &amp; Blogs</td>\n",
              "      <td>want talk marriage</td>\n",
              "      <td>want talk marriage shantell channel video k le...</td>\n",
              "      <td>SHANtell martin</td>\n",
              "      <td>14</td>\n",
              "    </tr>\n",
              "    <tr>\n",
              "      <th>1</th>\n",
              "      <td>1ZAPwfrtAFY</td>\n",
              "      <td>24</td>\n",
              "      <td>Entertainment</td>\n",
              "      <td>trump presidency last week tonight john oliver...</td>\n",
              "      <td>trump presidency last week tonight john oliver...</td>\n",
              "      <td>last week tonight trump presidency|\"last week ...</td>\n",
              "      <td>7</td>\n",
              "    </tr>\n",
              "    <tr>\n",
              "      <th>2</th>\n",
              "      <td>5qpjK5DgCt4</td>\n",
              "      <td>23</td>\n",
              "      <td>Comedy</td>\n",
              "      <td>racist superman rudy mancuso king bach lele pons</td>\n",
              "      <td>racist superman rudy mancuso king bach lele po...</td>\n",
              "      <td>racist superman|\"rudy\"|\"mancuso\"|\"king\"|\"bach\"...</td>\n",
              "      <td>15</td>\n",
              "    </tr>\n",
              "    <tr>\n",
              "      <th>3</th>\n",
              "      <td>puqaWrEC7tY</td>\n",
              "      <td>24</td>\n",
              "      <td>Entertainment</td>\n",
              "      <td>nickelback lyrics real fake</td>\n",
              "      <td>nickelback lyrics real fake today find link ni...</td>\n",
              "      <td>rhett and link|\"gmm\"|\"good mythical morning\"|\"...</td>\n",
              "      <td>2</td>\n",
              "    </tr>\n",
              "    <tr>\n",
              "      <th>4</th>\n",
              "      <td>d380meD0W0M</td>\n",
              "      <td>24</td>\n",
              "      <td>Entertainment</td>\n",
              "      <td>dare going bald</td>\n",
              "      <td>dare going bald know since show back might bes...</td>\n",
              "      <td>ryan|\"higa\"|\"higatv\"|\"nigahiga\"|\"i dare you\"|\"...</td>\n",
              "      <td>10</td>\n",
              "    </tr>\n",
              "    <tr>\n",
              "      <th>...</th>\n",
              "      <td>...</td>\n",
              "      <td>...</td>\n",
              "      <td>...</td>\n",
              "      <td>...</td>\n",
              "      <td>...</td>\n",
              "      <td>...</td>\n",
              "      <td>...</td>\n",
              "    </tr>\n",
              "    <tr>\n",
              "      <th>40760</th>\n",
              "      <td>dS5Thrl-4Kc</td>\n",
              "      <td>26</td>\n",
              "      <td>Howto &amp; Style</td>\n",
              "      <td>crayola makeup hit miss</td>\n",
              "      <td>crayola makeup hit miss hey larlees todays vid...</td>\n",
              "      <td>Laura88Lee|\"crayola\"|\"crayon makeup\"|\"crayola ...</td>\n",
              "      <td>2</td>\n",
              "    </tr>\n",
              "    <tr>\n",
              "      <th>40761</th>\n",
              "      <td>JGm9Y_hFqNk</td>\n",
              "      <td>17</td>\n",
              "      <td>Sports</td>\n",
              "      <td>first take reacts kyrie irving says contract e...</td>\n",
              "      <td>first take reacts kyrie irving says contract e...</td>\n",
              "      <td>espn|\"espn live\"|\"boston celtics\"|\"kyrie irvin...</td>\n",
              "      <td>7</td>\n",
              "    </tr>\n",
              "    <tr>\n",
              "      <th>40762</th>\n",
              "      <td>6h8QgZF5Qu4</td>\n",
              "      <td>24</td>\n",
              "      <td>Entertainment</td>\n",
              "      <td>drop mic w ashton kutcher sean diddy combs</td>\n",
              "      <td>drop mic w ashton kutcher sean diddy combs jam...</td>\n",
              "      <td>The Late Late Show|\"Late Late Show\"|\"James Cor...</td>\n",
              "      <td>15</td>\n",
              "    </tr>\n",
              "    <tr>\n",
              "      <th>40764</th>\n",
              "      <td>mpnshdmtE2Y</td>\n",
              "      <td>26</td>\n",
              "      <td>Howto &amp; Style</td>\n",
              "      <td>carla makes ba smashburgers test kitchen bon a...</td>\n",
              "      <td>carla makes ba smashburgers test kitchen bon a...</td>\n",
              "      <td>bon appetit|\"burgers\"|\"cheeseburgers\"|\"how to ...</td>\n",
              "      <td>1</td>\n",
              "    </tr>\n",
              "    <tr>\n",
              "      <th>40766</th>\n",
              "      <td>yz7Xq3T0YPs</td>\n",
              "      <td>24</td>\n",
              "      <td>Entertainment</td>\n",
              "      <td>katherine langford reasons australia doctor pa...</td>\n",
              "      <td>katherine langford reasons australia doctor pa...</td>\n",
              "      <td>jimmy|\"kimmel\"|\"live\"|\"late\"|\"night\"|\"talk\"|\"s...</td>\n",
              "      <td>7</td>\n",
              "    </tr>\n",
              "  </tbody>\n",
              "</table>\n",
              "<p>6351 rows × 7 columns</p>\n",
              "</div>"
            ],
            "text/plain": [
              "          video_id  category_id   category_name  \\\n",
              "0      2kyS6SvSYSE           22  People & Blogs   \n",
              "1      1ZAPwfrtAFY           24   Entertainment   \n",
              "2      5qpjK5DgCt4           23          Comedy   \n",
              "3      puqaWrEC7tY           24   Entertainment   \n",
              "4      d380meD0W0M           24   Entertainment   \n",
              "...            ...          ...             ...   \n",
              "40760  dS5Thrl-4Kc           26   Howto & Style   \n",
              "40761  JGm9Y_hFqNk           17          Sports   \n",
              "40762  6h8QgZF5Qu4           24   Entertainment   \n",
              "40764  mpnshdmtE2Y           26   Howto & Style   \n",
              "40766  yz7Xq3T0YPs           24   Entertainment   \n",
              "\n",
              "                                                   title  \\\n",
              "0                                     want talk marriage   \n",
              "1      trump presidency last week tonight john oliver...   \n",
              "2       racist superman rudy mancuso king bach lele pons   \n",
              "3                            nickelback lyrics real fake   \n",
              "4                                        dare going bald   \n",
              "...                                                  ...   \n",
              "40760                            crayola makeup hit miss   \n",
              "40761  first take reacts kyrie irving says contract e...   \n",
              "40762         drop mic w ashton kutcher sean diddy combs   \n",
              "40764  carla makes ba smashburgers test kitchen bon a...   \n",
              "40766  katherine langford reasons australia doctor pa...   \n",
              "\n",
              "                                                    text  \\\n",
              "0      want talk marriage shantell channel video k le...   \n",
              "1      trump presidency last week tonight john oliver...   \n",
              "2      racist superman rudy mancuso king bach lele po...   \n",
              "3      nickelback lyrics real fake today find link ni...   \n",
              "4      dare going bald know since show back might bes...   \n",
              "...                                                  ...   \n",
              "40760  crayola makeup hit miss hey larlees todays vid...   \n",
              "40761  first take reacts kyrie irving says contract e...   \n",
              "40762  drop mic w ashton kutcher sean diddy combs jam...   \n",
              "40764  carla makes ba smashburgers test kitchen bon a...   \n",
              "40766  katherine langford reasons australia doctor pa...   \n",
              "\n",
              "                                                    tags  clusters  \n",
              "0                                        SHANtell martin        14  \n",
              "1      last week tonight trump presidency|\"last week ...         7  \n",
              "2      racist superman|\"rudy\"|\"mancuso\"|\"king\"|\"bach\"...        15  \n",
              "3      rhett and link|\"gmm\"|\"good mythical morning\"|\"...         2  \n",
              "4      ryan|\"higa\"|\"higatv\"|\"nigahiga\"|\"i dare you\"|\"...        10  \n",
              "...                                                  ...       ...  \n",
              "40760  Laura88Lee|\"crayola\"|\"crayon makeup\"|\"crayola ...         2  \n",
              "40761  espn|\"espn live\"|\"boston celtics\"|\"kyrie irvin...         7  \n",
              "40762  The Late Late Show|\"Late Late Show\"|\"James Cor...        15  \n",
              "40764  bon appetit|\"burgers\"|\"cheeseburgers\"|\"how to ...         1  \n",
              "40766  jimmy|\"kimmel\"|\"live\"|\"late\"|\"night\"|\"talk\"|\"s...         7  \n",
              "\n",
              "[6351 rows x 7 columns]"
            ]
          },
          "metadata": {
            "tags": []
          },
          "execution_count": 71
        }
      ]
    },
    {
      "cell_type": "code",
      "metadata": {
        "id": "iaWTsb-pVPBL",
        "outputId": "5f6dc930-92cb-4f10-8b82-2f5c1e0cf4b0"
      },
      "source": [
        "df_cluster['clusters'].value_counts()"
      ],
      "execution_count": null,
      "outputs": [
        {
          "output_type": "execute_result",
          "data": {
            "text/plain": [
              "4     1124\n",
              "11     616\n",
              "14     598\n",
              "7      491\n",
              "6      436\n",
              "3      368\n",
              "12     353\n",
              "5      342\n",
              "10     338\n",
              "1      328\n",
              "15     318\n",
              "9      294\n",
              "2      260\n",
              "8      198\n",
              "0      179\n",
              "13     108\n",
              "Name: clusters, dtype: int64"
            ]
          },
          "metadata": {
            "tags": []
          },
          "execution_count": 72
        }
      ]
    },
    {
      "cell_type": "code",
      "metadata": {
        "id": "BwYH_ZwzVPBL"
      },
      "source": [
        ""
      ],
      "execution_count": null,
      "outputs": []
    }
  ]
}